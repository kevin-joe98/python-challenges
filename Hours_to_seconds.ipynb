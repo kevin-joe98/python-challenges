{
  "nbformat": 4,
  "nbformat_minor": 0,
  "metadata": {
    "colab": {
      "provenance": []
    },
    "kernelspec": {
      "name": "python3",
      "display_name": "Python 3"
    },
    "language_info": {
      "name": "python"
    }
  },
  "cells": [
    {
      "cell_type": "markdown",
      "source": [
        "We need to be able to display the current time to our players. The problem is that the time is stored as a number of hours, but we want to display it as a number of seconds.\n",
        "\n",
        "Write the hours_to_seconds function. It should convert hours to seconds."
      ],
      "metadata": {
        "id": "btkKi_ykX4tm"
      }
    },
    {
      "cell_type": "code",
      "execution_count": null,
      "metadata": {
        "id": "ztFEO9waXv2X"
      },
      "outputs": [],
      "source": []
    },
    {
      "cell_type": "code",
      "source": [
        "def hours_to_seconds(hours):\n",
        "    return hours * 3600\n",
        "\n",
        "# Don't touch below this line\n",
        "\n",
        "def test(hours):\n",
        "    secs = hours_to_seconds(hours)\n",
        "    print(hours, \"hours is\", secs, \"seconds\")\n",
        "\n",
        "test(10)\n",
        "test(1)\n",
        "test(25)\n",
        "test(100)\n",
        "test(33)\n"
      ],
      "metadata": {
        "colab": {
          "base_uri": "https://localhost:8080/"
        },
        "id": "AzsYAJOMJPXS",
        "outputId": "148e2b24-d0bd-495e-df9a-9f32019b0ed0"
      },
      "execution_count": null,
      "outputs": [
        {
          "output_type": "stream",
          "name": "stdout",
          "text": [
            "10 hours is 36000 seconds\n",
            "1 hours is 3600 seconds\n",
            "25 hours is 90000 seconds\n",
            "100 hours is 360000 seconds\n",
            "33 hours is 118800 seconds\n"
          ]
        }
      ]
    }
  ]
}