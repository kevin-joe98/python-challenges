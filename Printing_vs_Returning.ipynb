{
  "nbformat": 4,
  "nbformat_minor": 0,
  "metadata": {
    "colab": {
      "provenance": []
    },
    "kernelspec": {
      "name": "python3",
      "display_name": "Python 3"
    },
    "language_info": {
      "name": "python"
    }
  },
  "cells": [
    {
      "cell_type": "markdown",
      "source": [
        "There is a problem in the get_title function! It's supposed to calculate the title value and return it to the caller. Instead, it's barbarically printing the value to the console.\n",
        "\n",
        "Fix the function so that it returns the title value instead of printing it to the console."
      ],
      "metadata": {
        "id": "ybHJO79QZDO3"
      }
    },
    {
      "cell_type": "code",
      "source": [
        "def get_title(first_name, last_name, job):\n",
        "    title = first_name + \" \" + last_name + \" the \" + job\n",
        "    return title\n",
        "\n",
        "# Don't touch below this line\n",
        "\n",
        "def test(first_name, last_name, job):\n",
        "    title = get_title(first_name, last_name, job)\n",
        "    print(\"First name:\", first_name)\n",
        "    print(\"Last name:\", last_name)\n",
        "    print(\"Job:\", job)\n",
        "    print(\"Title:\", title)\n",
        "    print(\"=====================================\")\n",
        "\n",
        "test(\"Frodo\", \"Baggins\", \"warrior\")\n",
        "test(\"Bilbo\", \"Baggins\", \"thief\")\n",
        "test(\"Gandalf\", \"The Grey\", \"wizard\")\n",
        "test(\"Aragorn\", \"Son of Arathorn\", \"ranger\")\n"
      ],
      "metadata": {
        "colab": {
          "base_uri": "https://localhost:8080/"
        },
        "id": "TedcTd5HK0fU",
        "outputId": "48acac35-5b76-4451-ccbc-11df429cfc34"
      },
      "execution_count": null,
      "outputs": [
        {
          "output_type": "stream",
          "name": "stdout",
          "text": [
            "First name: Frodo\n",
            "Last name: Baggins\n",
            "Job: warrior\n",
            "Title: Frodo Baggins the warrior\n",
            "=====================================\n",
            "First name: Bilbo\n",
            "Last name: Baggins\n",
            "Job: thief\n",
            "Title: Bilbo Baggins the thief\n",
            "=====================================\n",
            "First name: Gandalf\n",
            "Last name: The Grey\n",
            "Job: wizard\n",
            "Title: Gandalf The Grey the wizard\n",
            "=====================================\n",
            "First name: Aragorn\n",
            "Last name: Son of Arathorn\n",
            "Job: ranger\n",
            "Title: Aragorn Son of Arathorn the ranger\n",
            "=====================================\n"
          ]
        }
      ]
    }
  ]
}