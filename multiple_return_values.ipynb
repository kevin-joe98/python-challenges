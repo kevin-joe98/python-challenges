{
  "nbformat": 4,
  "nbformat_minor": 0,
  "metadata": {
    "colab": {
      "provenance": []
    },
    "kernelspec": {
      "name": "python3",
      "display_name": "Python 3"
    },
    "language_info": {
      "name": "python"
    }
  },
  "cells": [
    {
      "cell_type": "markdown",
      "source": [
        "Complete the become_warrior function. It accepts 3 inputs:\n",
        "\n",
        "first_name: string\n",
        "last_name: string\n",
        "power: integer\n",
        "It should return 2 values:\n",
        "\n",
        "The warrior's \"title\", which is a string in this format:\n",
        "first_name last_name the warrior\n",
        "\n",
        "Where first_name and last_name are the actual values of the first_name and last_name inputs. Note: make sure the format is exact, do not add capitalization or punctuation.\n",
        "\n",
        "A new \"power\" value that is equal to the input power plus one.\n",
        "For example:\n",
        "\n",
        "title, power = become_warrior(\"Aang\", \"Airbender\", 100)\n",
        "print(title)\n",
        "# \"Aang Airbender the warrior\"\n",
        "print(power)\n",
        "# 101"
      ],
      "metadata": {
        "id": "YRIpCzzvYM_K"
      }
    },
    {
      "cell_type": "code",
      "source": [
        "def become_warrior(first_name, last_name, power):\n",
        "  new_power = power + 1\n",
        "  title = f\"{first_name} {last_name} the warrior\"\n",
        "  return title, new_power\n",
        "\n",
        "# Don't edit below this line\n",
        "\n",
        "def main():\n",
        "    test(\"Frodo\", \"Baggins\", 5)\n",
        "    test(\"Bilbo\", \"Baggins\", 10)\n",
        "    test(\"Gandalf\", \"The Grey\", 9000)\n",
        "\n",
        "def test(first_name, last_name, power):\n",
        "    title, new_power = become_warrior(first_name, last_name, power)\n",
        "    print(title, \"has a power level of:\", new_power)\n",
        "\n",
        "main()\n"
      ],
      "metadata": {
        "id": "pmeNb06nJPYV"
      },
      "execution_count": null,
      "outputs": []
    }
  ]
}