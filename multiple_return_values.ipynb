{
  "nbformat": 4,
  "nbformat_minor": 0,
  "metadata": {
    "colab": {
      "provenance": []
    },
    "kernelspec": {
      "name": "python3",
      "display_name": "Python 3"
    },
    "language_info": {
      "name": "python"
    }
  },
  "cells": [
    {
      "cell_type": "markdown",
      "source": [
        "Complete the become_warrior function. It accepts 3 inputs:\n",
        "\n",
        "first_name: string\n",
        "last_name: string\n",
        "power: integer\n",
        "It should return 2 values:\n",
        "\n",
        "The warrior's \"title\", which is a string in this format:\n",
        "first_name last_name the warrior\n",
        "\n",
        "Where first_name and last_name are the actual values of the first_name and last_name inputs. Note: make sure the format is exact, do not add capitalization or punctuation.\n",
        "\n",
        "A new \"power\" value that is equal to the input power plus one.\n",
        "For example:\n",
        "\n",
        "title, power = become_warrior(\"Aang\", \"Airbender\", 100)\n",
        "print(title)\n",
        "# \"Aang Airbender the warrior\"\n",
        "print(power)\n",
        "# 101"
      ],
      "metadata": {
        "id": "YRIpCzzvYM_K"
      }
    },
    {
      "cell_type": "code",
      "source": [
        "def become_warrior(first_name, last_name, power):\n",
        "    title = \"Warrior \" + first_name + \" \" + last_name\n",
        "    new_power = power + 100\n",
        "    return title, new_power\n",
        "\n",
        "# Don't edit below this line\n",
        "\n",
        "def main():\n",
        "    test(\"Frodo\", \"Baggins\", 5)\n",
        "    test(\"Bilbo\", \"Baggins\", 10)\n",
        "    test(\"Gandalf\", \"The Grey\", 9000)\n",
        "\n",
        "def test(first_name, last_name, power):\n",
        "    title, new_power = become_warrior(first_name, last_name, power)\n",
        "    print(title, \"has a power level of:\", new_power)\n",
        "\n",
        "main()\n"
      ],
      "metadata": {
        "colab": {
          "base_uri": "https://localhost:8080/"
        },
        "id": "pmeNb06nJPYV",
        "outputId": "e32f69b6-1040-446f-b3e5-7baa2e0cdf8b"
      },
      "execution_count": null,
      "outputs": [
        {
          "output_type": "stream",
          "name": "stdout",
          "text": [
            "Warrior Frodo Baggins has a power level of: 105\n",
            "Warrior Bilbo Baggins has a power level of: 110\n",
            "Warrior Gandalf The Grey has a power level of: 9100\n"
          ]
        }
      ]
    }
  ]
}