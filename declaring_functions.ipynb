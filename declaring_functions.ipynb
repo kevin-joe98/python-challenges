{
  "nbformat": 4,
  "nbformat_minor": 0,
  "metadata": {
    "colab": {
      "provenance": []
    },
    "kernelspec": {
      "name": "python3",
      "display_name": "Python 3"
    },
    "language_info": {
      "name": "python"
    }
  },
  "cells": [
    {
      "cell_type": "markdown",
      "source": [
        "There is a bug in our program! Fix it."
      ],
      "metadata": {
        "id": "POOyo0PT6z2I"
      }
    },
    {
      "cell_type": "code",
      "execution_count": 2,
      "metadata": {
        "colab": {
          "base_uri": "https://localhost:8080/"
        },
        "id": "BSgej1Vq6ygj",
        "outputId": "61558403-14cd-43ee-c62e-042d704d8df5"
      },
      "outputs": [
        {
          "output_type": "stream",
          "name": "stdout",
          "text": [
            "Fantasy Quest is booting up...\n",
            "Game is running!\n"
          ]
        }
      ],
      "source": [
        "def main():\n",
        "    print(\"Fantasy Quest is booting up...\")\n",
        "    print(\"Game is running!\")\n",
        "\n",
        "main()"
      ]
    },
    {
      "cell_type": "code",
      "source": [],
      "metadata": {
        "id": "btuyoOom8S9M"
      },
      "execution_count": null,
      "outputs": []
    }
  ]
}