{
  "nbformat": 4,
  "nbformat_minor": 0,
  "metadata": {
    "colab": {
      "provenance": []
    },
    "kernelspec": {
      "name": "python3",
      "display_name": "Python 3"
    },
    "language_info": {
      "name": "python"
    }
  },
  "cells": [
    {
      "cell_type": "markdown",
      "source": [
        "Complete both the get_punched and get_slashed functions. They should each take 2 arguments:\n",
        "\n",
        "health: An integer\n",
        "armor: An integer\n",
        "Change the functions so if no armor argument is passed, armor defaults to 0.\n",
        "\n",
        "Each attack does a different amount of damage. Getting punched does 50 damage. Getting slashed does 100 damage. The armor should reduce the damage by subtracting part of the attack. The rest of the damage should be applied to the health. Return a single integer, the health left over after the attack."
      ],
      "metadata": {
        "id": "_fC1FYANYvwz"
      }
    },
    {
      "cell_type": "code",
      "source": [
        "def get_punched(health, armor=0):\n",
        "    damage = 10 - armor\n",
        "    if damage < 0:\n",
        "        damage = 0\n",
        "    new_health = health - damage\n",
        "    return new_health\n",
        "\n",
        "def get_slashed(health, armor=0):\n",
        "    damage = 20 - armor\n",
        "    if damage < 0:\n",
        "        damage = 0\n",
        "    new_health = health - damage\n",
        "    return new_health\n",
        "\n",
        "# Don't touch below this line\n",
        "\n",
        "def test(health, armor):\n",
        "    print(f\"Health: {health}, Armor: {armor}\")\n",
        "    print(f\"Health after punch: {get_punched(health, armor)}\")\n",
        "    print(\"=====================================\")\n",
        "    print(f\"Health: {health}, Armor: {armor}\")\n",
        "    print(f\"Health after slash: {get_slashed(health, armor)}\\n\")\n",
        "    print(\"=====================================\")\n",
        "    print(f\"Health: {health}, Armor: no armor!\")\n",
        "    print(f\"Health after slash: {get_slashed(health)}\\n\")\n",
        "    print(\"=====================================\")\n",
        "    print(f\"Health: {health}, Armor: no armor!\")\n",
        "    print(f\"Health after punch: {get_punched(health)}\")\n",
        "    print(\"=====================================\")\n",
        "\n",
        "test(400, 5)\n",
        "test(300, 3)\n",
        "test(200, 1)\n"
      ],
      "metadata": {
        "colab": {
          "base_uri": "https://localhost:8080/"
        },
        "id": "uRAspuELJPcY",
        "outputId": "2652a59e-df8d-45b1-f6d7-97fa2d2e7f63"
      },
      "execution_count": null,
      "outputs": [
        {
          "output_type": "stream",
          "name": "stdout",
          "text": [
            "Health: 400, Armor: 5\n",
            "Health after punch: 395\n",
            "=====================================\n",
            "Health: 400, Armor: 5\n",
            "Health after slash: 385\n",
            "\n",
            "=====================================\n",
            "Health: 400, Armor: no armor!\n",
            "Health after slash: 380\n",
            "\n",
            "=====================================\n",
            "Health: 400, Armor: no armor!\n",
            "Health after punch: 390\n",
            "=====================================\n",
            "Health: 300, Armor: 3\n",
            "Health after punch: 293\n",
            "=====================================\n",
            "Health: 300, Armor: 3\n",
            "Health after slash: 283\n",
            "\n",
            "=====================================\n",
            "Health: 300, Armor: no armor!\n",
            "Health after slash: 280\n",
            "\n",
            "=====================================\n",
            "Health: 300, Armor: no armor!\n",
            "Health after punch: 290\n",
            "=====================================\n",
            "Health: 200, Armor: 1\n",
            "Health after punch: 191\n",
            "=====================================\n",
            "Health: 200, Armor: 1\n",
            "Health after slash: 181\n",
            "\n",
            "=====================================\n",
            "Health: 200, Armor: no armor!\n",
            "Health after slash: 180\n",
            "\n",
            "=====================================\n",
            "Health: 200, Armor: no armor!\n",
            "Health after punch: 190\n",
            "=====================================\n"
          ]
        }
      ]
    }
  ]
}