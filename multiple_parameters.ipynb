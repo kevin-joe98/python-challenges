{
  "nbformat": 4,
  "nbformat_minor": 0,
  "metadata": {
    "colab": {
      "provenance": []
    },
    "kernelspec": {
      "name": "python3",
      "display_name": "Python 3"
    },
    "language_info": {
      "name": "python"
    }
  },
  "cells": [
    {
      "cell_type": "markdown",
      "source": [
        "ASSIGNMENT\n",
        "We need to calculate the total damage from a triple attack combo. Complete the triple_attack function that takes three numbers as its parameters, slash_one, slash_two, and slash_three, and returns the sum."
      ],
      "metadata": {
        "id": "POOyo0PT6z2I"
      }
    },
    {
      "cell_type": "code",
      "execution_count": null,
      "metadata": {
        "id": "BSgej1Vq6ygj"
      },
      "outputs": [],
      "source": []
    },
    {
      "cell_type": "code",
      "source": [
        "damage_one = 2\n",
        "damage_two = 4\n",
        "damage_three = 3\n",
        "damage_four = -1\n",
        "damage_five = 10\n",
        "damage_six = 5\n",
        "\n",
        "# Don't touch above this line\n",
        "\n",
        "def triple_attack(slash_one, slash_two, slash_three):\n",
        "    return slash_one + slash_two + slash_three\n",
        "\n",
        "# Don't touch below this line\n",
        "\n",
        "print(\"Getting damage for\", damage_one, damage_two, \"and\", damage_three, \"...\")\n",
        "print(triple_attack(damage_one, damage_two, damage_three), \"points of damage dealt!\")\n",
        "print(\"=====================================\")\n",
        "\n",
        "print(\"Getting damage for\", damage_four, damage_five, \"and\", damage_six, \"...\")\n",
        "print(triple_attack(damage_four, damage_five, damage_six), \"points of damage dealt!\")\n",
        "print(\"=====================================\")\n"
      ],
      "metadata": {
        "colab": {
          "base_uri": "https://localhost:8080/"
        },
        "id": "Cui4T5wHI7xO",
        "outputId": "9a01f5f2-e041-46ab-83de-3f90339e605e"
      },
      "execution_count": 1,
      "outputs": [
        {
          "output_type": "stream",
          "name": "stdout",
          "text": [
            "Getting damage for 2 4 and 3 ...\n",
            "9 points of damage dealt!\n",
            "=====================================\n",
            "Getting damage for -1 10 and 5 ...\n",
            "14 points of damage dealt!\n",
            "=====================================\n"
          ]
        }
      ]
    }
  ]
}