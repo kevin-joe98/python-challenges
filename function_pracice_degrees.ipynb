{
  "nbformat": 4,
  "nbformat_minor": 0,
  "metadata": {
    "colab": {
      "provenance": []
    },
    "kernelspec": {
      "name": "python3",
      "display_name": "Python 3"
    },
    "language_info": {
      "name": "python"
    }
  },
  "cells": [
    {
      "cell_type": "markdown",
      "source": [
        "In Fantasy Quest, as characters are running around the map they can lose health due to heat exhaustion. The game tracks the temperature in Fahrenheit, but we need to display the temperature in Celsius for players outside the US.\n",
        "\n",
        "Write a function called to_celsius that returns the temperature converted from Fahrenheit to Celsius."
      ],
      "metadata": {
        "id": "bbWrAQ05Xjln"
      }
    },
    {
      "cell_type": "code",
      "source": [
        "def to_celsius(f):\n",
        "    return (5/9) * (f - 32)\n",
        "\n",
        "## Don't touch below this line\n",
        "\n",
        "def test(f):\n",
        "    c = round(to_celsius(f), 2)\n",
        "    print(f, \"degrees Fahrenheit is\", c, \"degrees Celsius\")\n",
        "\n",
        "test(100)\n",
        "test(88)\n",
        "test(104)\n",
        "test(112)\n"
      ],
      "metadata": {
        "colab": {
          "base_uri": "https://localhost:8080/"
        },
        "id": "c_R2PhB2JPUF",
        "outputId": "45213c0c-05e4-443f-f20c-1058c5a258f6"
      },
      "execution_count": null,
      "outputs": [
        {
          "output_type": "stream",
          "name": "stdout",
          "text": [
            "100 degrees Fahrenheit is 37.78 degrees Celsius\n",
            "88 degrees Fahrenheit is 31.11 degrees Celsius\n",
            "104 degrees Fahrenheit is 40.0 degrees Celsius\n",
            "112 degrees Fahrenheit is 44.44 degrees Celsius\n"
          ]
        }
      ]
    }
  ]
}